{
 "cells": [
  {
   "cell_type": "code",
   "execution_count": 1,
   "id": "14cb617f",
   "metadata": {},
   "outputs": [],
   "source": [
    "import requests, bs4, re"
   ]
  },
  {
   "cell_type": "code",
   "execution_count": 2,
   "id": "33ffca5d",
   "metadata": {},
   "outputs": [],
   "source": [
    "url_base = 'http://www.pythonchallenge.com/pc/def/linkedlist.php?nothing='"
   ]
  },
  {
   "cell_type": "code",
   "execution_count": 3,
   "id": "3a262f36",
   "metadata": {},
   "outputs": [],
   "source": [
    "param = '12345'"
   ]
  },
  {
   "cell_type": "code",
   "execution_count": 4,
   "id": "604f345d",
   "metadata": {},
   "outputs": [],
   "source": [
    "url = url_base + param"
   ]
  },
  {
   "cell_type": "code",
   "execution_count": 5,
   "id": "b75468a6",
   "metadata": {},
   "outputs": [],
   "source": [
    "response = requests.get(url)"
   ]
  },
  {
   "cell_type": "code",
   "execution_count": 6,
   "id": "01af6b9a",
   "metadata": {},
   "outputs": [
    {
     "data": {
      "text/plain": [
       "'and the next nothing is 44827'"
      ]
     },
     "execution_count": 6,
     "metadata": {},
     "output_type": "execute_result"
    }
   ],
   "source": [
    "response.text"
   ]
  },
  {
   "cell_type": "code",
   "execution_count": 8,
   "id": "8b9c0684",
   "metadata": {},
   "outputs": [
    {
     "name": "stdout",
     "output_type": "stream",
     "text": [
      "85: Yes. Divide by two and keep going.\n",
      "http://www.pythonchallenge.com/pc/def/{} peak.html\n"
     ]
    }
   ],
   "source": [
    "for num in range(400):\n",
    "    url = url_base + param\n",
    "    response = requests.get(url)\n",
    "    \n",
    "    if( response.text[-4:] == 'html' ):\n",
    "        print('http://www.pythonchallenge.com/pc/def/{}'.format(response.text))\n",
    "        break\n",
    "    \n",
    "    match = re.search(r'the next nothing is (\\d+)', response.text)\n",
    "    \n",
    "    if( match != None ):\n",
    "        param = match.group(1)\n",
    "    else:\n",
    "        param = str(int(param)/2)\n",
    "        print('{}: {}'.format(num,response.text))"
   ]
  }
 ],
 "metadata": {
  "kernelspec": {
   "display_name": "Python 3 (ipykernel)",
   "language": "python",
   "name": "python3"
  },
  "language_info": {
   "codemirror_mode": {
    "name": "ipython",
    "version": 3
   },
   "file_extension": ".py",
   "mimetype": "text/x-python",
   "name": "python",
   "nbconvert_exporter": "python",
   "pygments_lexer": "ipython3",
   "version": "3.9.13"
  }
 },
 "nbformat": 4,
 "nbformat_minor": 5
}
