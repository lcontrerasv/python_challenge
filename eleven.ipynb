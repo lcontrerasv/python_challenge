{
 "cells": [
  {
   "cell_type": "code",
   "execution_count": 12,
   "id": "481ed275",
   "metadata": {},
   "outputs": [],
   "source": [
    "import requests, io"
   ]
  },
  {
   "cell_type": "code",
   "execution_count": 2,
   "id": "8efe002e",
   "metadata": {},
   "outputs": [],
   "source": [
    "from requests.auth import HTTPBasicAuth"
   ]
  },
  {
   "cell_type": "code",
   "execution_count": 3,
   "id": "5c526f1f",
   "metadata": {},
   "outputs": [],
   "source": [
    "url = 'http://www.pythonchallenge.com/pc/return/5808.html'"
   ]
  },
  {
   "cell_type": "code",
   "execution_count": 4,
   "id": "6b352105",
   "metadata": {},
   "outputs": [],
   "source": [
    "auth = HTTPBasicAuth('huge', 'file')"
   ]
  },
  {
   "cell_type": "code",
   "execution_count": 5,
   "id": "2d2c4ef0",
   "metadata": {},
   "outputs": [],
   "source": [
    "response = requests.get(url, auth=auth)"
   ]
  },
  {
   "cell_type": "code",
   "execution_count": 7,
   "id": "b8a81147",
   "metadata": {},
   "outputs": [
    {
     "name": "stdout",
     "output_type": "stream",
     "text": [
      "<html>\n",
      "<head>\n",
      "  <title>odd even</title>\n",
      "  <link rel=\"stylesheet\" type=\"text/css\" href=\"../style.css\">\n",
      "</head>\n",
      "<body>\n",
      "\t<br><br>\n",
      "\t<center>\n",
      "\t<img src=\"cave.jpg\" width=\"640\" height=\"480\" border=\"0\"/>\n",
      "\t<br>\n",
      "\t<br>\n",
      "\t<font color=\"gold\" size=\"+1\"></font>\n",
      "</body>\n",
      "</html>\n",
      "\n"
     ]
    }
   ],
   "source": [
    "print(response.text)"
   ]
  },
  {
   "cell_type": "code",
   "execution_count": 10,
   "id": "e3adeac6",
   "metadata": {},
   "outputs": [],
   "source": [
    "from PIL import Image,ImageDraw"
   ]
  },
  {
   "cell_type": "code",
   "execution_count": 14,
   "id": "a6b31cd2",
   "metadata": {},
   "outputs": [],
   "source": [
    "img = Image.open(io.BytesIO(requests.get('http://www.pythonchallenge.com/pc/return/cave.jpg', auth=auth).content))"
   ]
  },
  {
   "cell_type": "code",
   "execution_count": 15,
   "id": "811f738d",
   "metadata": {},
   "outputs": [],
   "source": [
    "(w,h) = img.size"
   ]
  },
  {
   "cell_type": "code",
   "execution_count": 16,
   "id": "13160847",
   "metadata": {},
   "outputs": [],
   "source": [
    "even = Image.new('RGB', (w // 2, h // 2))"
   ]
  },
  {
   "cell_type": "code",
   "execution_count": 17,
   "id": "9de55b26",
   "metadata": {},
   "outputs": [],
   "source": [
    "odd = Image.new('RGB', (w // 2, h // 2))"
   ]
  },
  {
   "cell_type": "code",
   "execution_count": 19,
   "id": "b391abd5",
   "metadata": {},
   "outputs": [],
   "source": [
    "for i in range(w):\n",
    "    for j in range(h):\n",
    "        p = img.getpixel((i,j))\n",
    "        if (i+j)%2 == 1:\n",
    "            odd.putpixel((i // 2, j // 2), p)\n",
    "        else:\n",
    "            even.putpixel((i // 2, j // 2), p)"
   ]
  },
  {
   "cell_type": "code",
   "execution_count": 20,
   "id": "a0921690",
   "metadata": {},
   "outputs": [],
   "source": [
    "even.show() #evil"
   ]
  },
  {
   "cell_type": "code",
   "execution_count": 21,
   "id": "c9732447",
   "metadata": {},
   "outputs": [],
   "source": [
    "odd.show()"
   ]
  }
 ],
 "metadata": {
  "kernelspec": {
   "display_name": "Python 3 (ipykernel)",
   "language": "python",
   "name": "python3"
  },
  "language_info": {
   "codemirror_mode": {
    "name": "ipython",
    "version": 3
   },
   "file_extension": ".py",
   "mimetype": "text/x-python",
   "name": "python",
   "nbconvert_exporter": "python",
   "pygments_lexer": "ipython3",
   "version": "3.9.13"
  }
 },
 "nbformat": 4,
 "nbformat_minor": 5
}
