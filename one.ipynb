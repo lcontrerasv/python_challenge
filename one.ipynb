{
 "cells": [
  {
   "cell_type": "code",
   "execution_count": 8,
   "id": "e0160fc4",
   "metadata": {},
   "outputs": [],
   "source": [
    "import string"
   ]
  },
  {
   "cell_type": "code",
   "execution_count": 9,
   "id": "484e8f61",
   "metadata": {},
   "outputs": [],
   "source": [
    "texto_encriptado = \"g fmnc wms bgblr rpylqjyrc gr zw fylb. rfyrq ufyr amknsrcpq ypc dmp. bmgle gr gl zw fylb gq glcddgagclr ylb rfyr'q ufw rfgq rcvr gq qm jmle. sqgle qrpgle.kyicrpylq() gq pcamkkclbcb. lmu ynnjw ml rfc spj\""
   ]
  },
  {
   "cell_type": "code",
   "execution_count": 10,
   "id": "a6c1ea23",
   "metadata": {},
   "outputs": [],
   "source": [
    "def decript(letra):\n",
    "    if(letra in string.ascii_lowercase):\n",
    "        if( ord(letra.lower()) > 120 ):\n",
    "            return chr(96+2-(122-ord(letra.lower())))\n",
    "        else:\n",
    "            return chr(ord(letra.lower())+2)\n",
    "    return letra"
   ]
  },
  {
   "cell_type": "code",
   "execution_count": 11,
   "id": "cb2ce5e5",
   "metadata": {},
   "outputs": [],
   "source": [
    "tabla = texto_encriptado.maketrans(string.ascii_lowercase, string.ascii_lowercase[2:]+'ab')"
   ]
  },
  {
   "cell_type": "code",
   "execution_count": 13,
   "id": "34abaf63",
   "metadata": {},
   "outputs": [
    {
     "data": {
      "text/plain": [
       "\"i hope you didnt translate it by hand. thats what computers are for. doing it in by hand is inefficient and that's why this text is so long. using string.maketrans() is recommended. now apply on the url\""
      ]
     },
     "execution_count": 13,
     "metadata": {},
     "output_type": "execute_result"
    }
   ],
   "source": [
    "texto_encriptado.translate(tabla)"
   ]
  },
  {
   "cell_type": "code",
   "execution_count": 14,
   "id": "f96e60b4",
   "metadata": {},
   "outputs": [],
   "source": [
    "texto_encriptado = 'map'"
   ]
  },
  {
   "cell_type": "code",
   "execution_count": 15,
   "id": "2cd57a30",
   "metadata": {},
   "outputs": [
    {
     "data": {
      "text/plain": [
       "'ocr'"
      ]
     },
     "execution_count": 15,
     "metadata": {},
     "output_type": "execute_result"
    }
   ],
   "source": [
    "texto_encriptado.translate(tabla)"
   ]
  }
 ],
 "metadata": {
  "kernelspec": {
   "display_name": "Python 3 (ipykernel)",
   "language": "python",
   "name": "python3"
  },
  "language_info": {
   "codemirror_mode": {
    "name": "ipython",
    "version": 3
   },
   "file_extension": ".py",
   "mimetype": "text/x-python",
   "name": "python",
   "nbconvert_exporter": "python",
   "pygments_lexer": "ipython3",
   "version": "3.9.13"
  }
 },
 "nbformat": 4,
 "nbformat_minor": 5
}
