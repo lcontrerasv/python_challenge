{
 "cells": [
  {
   "cell_type": "code",
   "execution_count": 23,
   "id": "2cfbde28",
   "metadata": {},
   "outputs": [],
   "source": [
    "import requests, io, re"
   ]
  },
  {
   "cell_type": "code",
   "execution_count": 13,
   "id": "ab98d971",
   "metadata": {},
   "outputs": [],
   "source": [
    "from zipfile import ZipFile"
   ]
  },
  {
   "cell_type": "code",
   "execution_count": 14,
   "id": "b1b81da2",
   "metadata": {},
   "outputs": [],
   "source": [
    "url = 'http://www.pythonchallenge.com/pc/def/channel.html'"
   ]
  },
  {
   "cell_type": "code",
   "execution_count": 15,
   "id": "e5a2d9d9",
   "metadata": {},
   "outputs": [],
   "source": [
    "response = requests.get(url)"
   ]
  },
  {
   "cell_type": "code",
   "execution_count": 16,
   "id": "0e7918a6",
   "metadata": {},
   "outputs": [
    {
     "data": {
      "text/plain": [
       "'<html> <!-- <-- zip -->\\n<head>\\n  <title>now there are pairs</title>\\n  <link rel=\"stylesheet\" type=\"text/css\" href=\"../style.css\">\\n</head>\\n<body>\\n<center>\\n<img src=\"channel.jpg\">\\n<br/>\\n<!-- The following has nothing to do with the riddle itself. I just\\nthought it would be the right point to offer you to donate to the\\nPython Challenge project. Any amount will be greatly appreciated.\\n\\n-thesamet\\n-->\\n\\n<form action=\"https://www.paypal.com/cgi-bin/webscr\" method=\"post\">\\n    <input type=\"hidden\" name=\"cmd\" value=\"_xclick\">\\n    <input type=\"hidden\" name=\"business\" value=\"thesamet@gmail.com\">\\n    <input type=\"hidden\" name=\"item_name\" value=\"Python Challenge donations\">\\n    <input type=\"hidden\" name=\"no_note\" value=\"1\">\\n    <input type=\"hidden\" name=\"currency_code\" value=\"USD\">\\n    <input type=\"hidden\" name=\"tax\" value=\"0\">\\n    <input type=\"hidden\" name=\"bn\" value=\"PP-DonationsBF\">\\n    <input type=\"image\" src=\"https://www.paypal.com/en_US/i/btn/x-click-but04.gif\" border=\"0\" name=\"submit\" alt=\"Make payments with PayPal - it\\'s fast, free and secure!\">\\n    <img alt=\"\" border=\"0\" src=\"https://www.paypal.com/en_US/i/scr/pixel.gif\" width=\"1\" height=\"1\">\\n</form>\\n\\n</body>\\n</html>\\n'"
      ]
     },
     "execution_count": 16,
     "metadata": {},
     "output_type": "execute_result"
    }
   ],
   "source": [
    "response.text"
   ]
  },
  {
   "cell_type": "code",
   "execution_count": 17,
   "id": "64dfab50",
   "metadata": {},
   "outputs": [],
   "source": [
    "url_zip = 'http://www.pythonchallenge.com/pc/def/channel.zip'"
   ]
  },
  {
   "cell_type": "code",
   "execution_count": 18,
   "id": "227739a3",
   "metadata": {},
   "outputs": [],
   "source": [
    "response = requests.get(url_zip)"
   ]
  },
  {
   "cell_type": "code",
   "execution_count": 45,
   "id": "cfd0ceeb",
   "metadata": {},
   "outputs": [
    {
     "name": "stdout",
     "output_type": "stream",
     "text": [
      "welcome to my zipped list.\n",
      "\n",
      "hint1: start from 90052\n",
      "hint2: answer is inside the zip\n",
      "\n",
      "Collect the comments.\n"
     ]
    }
   ],
   "source": [
    "with ZipFile(io.BytesIO(response.content)) as zip_file:\n",
    "    #zip_file.printdir()\n",
    "    \n",
    "    readme = zip_file.read('readme.txt')\n",
    "    print(readme.decode('utf-8'))\n",
    "    \n",
    "    num = '90052'\n",
    "    comments = []\n",
    "    \n",
    "    while True:\n",
    "        file_name = num + '.txt'\n",
    "        nothing = zip_file.read(file_name)\n",
    "        comments.append(zip_file.getinfo(file_name).comment.decode('utf-8'))\n",
    "    \n",
    "        match = re.search(r'Next nothing is (\\d+)', nothing.decode('utf-8'))\n",
    "        \n",
    "        if match != None:\n",
    "            num = match.group(1)\n",
    "        else:\n",
    "            print(nothing.decode('utf-8'))\n",
    "            break"
   ]
  },
  {
   "cell_type": "code",
   "execution_count": 51,
   "id": "a404e216",
   "metadata": {},
   "outputs": [
    {
     "name": "stdout",
     "output_type": "stream",
     "text": [
      "****************************************************************\n",
      "****************************************************************\n",
      "**                                                            **\n",
      "**   OO    OO    XX      YYYY    GG    GG  EEEEEE NN      NN  **\n",
      "**   OO    OO  XXXXXX   YYYYYY   GG   GG   EEEEEE  NN    NN   **\n",
      "**   OO    OO XXX  XXX YYY   YY  GG GG     EE       NN  NN    **\n",
      "**   OOOOOOOO XX    XX YY        GGG       EEEEE     NNNN     **\n",
      "**   OOOOOOOO XX    XX YY        GGG       EEEEE      NN      **\n",
      "**   OO    OO XXX  XXX YYY   YY  GG GG     EE         NN      **\n",
      "**   OO    OO  XXXXXX   YYYYYY   GG   GG   EEEEEE     NN      **\n",
      "**   OO    OO    XX      YYYY    GG    GG  EEEEEE     NN      **\n",
      "**                                                            **\n",
      "****************************************************************\n",
      " **************************************************************\n",
      "\n"
     ]
    }
   ],
   "source": [
    "print(\"\".join(comments))"
   ]
  }
 ],
 "metadata": {
  "kernelspec": {
   "display_name": "Python 3 (ipykernel)",
   "language": "python",
   "name": "python3"
  },
  "language_info": {
   "codemirror_mode": {
    "name": "ipython",
    "version": 3
   },
   "file_extension": ".py",
   "mimetype": "text/x-python",
   "name": "python",
   "nbconvert_exporter": "python",
   "pygments_lexer": "ipython3",
   "version": "3.9.13"
  }
 },
 "nbformat": 4,
 "nbformat_minor": 5
}
