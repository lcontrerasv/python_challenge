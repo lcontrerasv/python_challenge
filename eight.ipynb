{
 "cells": [
  {
   "cell_type": "code",
   "execution_count": 9,
   "id": "6623edde",
   "metadata": {},
   "outputs": [],
   "source": [
    "import requests, bz2"
   ]
  },
  {
   "cell_type": "code",
   "execution_count": 2,
   "id": "bc070573",
   "metadata": {},
   "outputs": [],
   "source": [
    "url = 'http://www.pythonchallenge.com/pc/def/integrity.html'"
   ]
  },
  {
   "cell_type": "code",
   "execution_count": 3,
   "id": "b21de648",
   "metadata": {},
   "outputs": [],
   "source": [
    "response = requests.get(url)"
   ]
  },
  {
   "cell_type": "code",
   "execution_count": 6,
   "id": "cff51484",
   "metadata": {},
   "outputs": [
    {
     "name": "stdout",
     "output_type": "stream",
     "text": [
      "<html>\n",
      "<head>\n",
      "  <title>working hard?</title>\n",
      "  <link rel=\"stylesheet\" type=\"text/css\" href=\"../style.css\">\n",
      "</head>\n",
      "<body>\n",
      "\t<br><br>\n",
      "\t<center>\n",
      "\t<img src=\"integrity.jpg\" width=\"640\" height=\"480\" border=\"0\" usemap=\"#notinsect\"/>\n",
      "\t<map name=\"notinsect\">\n",
      "\t<area shape=\"poly\" \n",
      "\t\tcoords=\"179,284,214,311,255,320,281,226,319,224,363,309,339,222,371,225,411,229,404,242,415,252,428,233,428,214,394,207,383,205,390,195,423,192,439,193,442,209,440,215,450,221,457,226,469,202,475,187,494,188,494,169,498,147,491,121,477,136,481,96,471,94,458,98,444,91,420,87,405,92,391,88,376,82,350,79,330,82,314,85,305,90,299,96,290,103,276,110,262,114,225,123,212,125,185,133,138,144,118,160,97,168,87,176,110,180,145,176,153,176,150,182,137,190,126,194,121,198,126,203,151,205,160,195,168,217,169,234,170,260,174,282\" \n",
      "\t\thref=\"../return/good.html\" />\n",
      "\t</map>\n",
      "\t<br><br>\n",
      "\t<font color=\"#303030\" size=\"+2\">Where is the missing link?</font>\n",
      "</body>\n",
      "</html>\n",
      "\n",
      "<!--\n",
      "un: 'BZh91AY&SYA\\xaf\\x82\\r\\x00\\x00\\x01\\x01\\x80\\x02\\xc0\\x02\\x00 \\x00!\\x9ah3M\\x07<]\\xc9\\x14\\xe1BA\\x06\\xbe\\x084'\n",
      "pw: 'BZh91AY&SY\\x94$|\\x0e\\x00\\x00\\x00\\x81\\x00\\x03$ \\x00!\\x9ah3M\\x13<]\\xc9\\x14\\xe1BBP\\x91\\xf08'\n",
      "-->\n",
      "\n"
     ]
    }
   ],
   "source": [
    "print(response.text)"
   ]
  },
  {
   "cell_type": "code",
   "execution_count": 16,
   "id": "677cce61",
   "metadata": {},
   "outputs": [],
   "source": [
    "un = b'BZh91AY&SYA\\xaf\\x82\\r\\x00\\x00\\x01\\x01\\x80\\x02\\xc0\\x02\\x00 \\x00!\\x9ah3M\\x07<]\\xc9\\x14\\xe1BA\\x06\\xbe\\x084'"
   ]
  },
  {
   "cell_type": "code",
   "execution_count": 19,
   "id": "ae5c2e57",
   "metadata": {},
   "outputs": [
    {
     "data": {
      "text/plain": [
       "b'huge'"
      ]
     },
     "execution_count": 19,
     "metadata": {},
     "output_type": "execute_result"
    }
   ],
   "source": [
    "bz2.decompress(un)"
   ]
  },
  {
   "cell_type": "code",
   "execution_count": 20,
   "id": "38cb1117",
   "metadata": {},
   "outputs": [],
   "source": [
    "pw = b'BZh91AY&SY\\x94$|\\x0e\\x00\\x00\\x00\\x81\\x00\\x03$ \\x00!\\x9ah3M\\x13<]\\xc9\\x14\\xe1BBP\\x91\\xf08'"
   ]
  },
  {
   "cell_type": "code",
   "execution_count": 22,
   "id": "e54b8df7",
   "metadata": {},
   "outputs": [
    {
     "data": {
      "text/plain": [
       "b'file'"
      ]
     },
     "execution_count": 22,
     "metadata": {},
     "output_type": "execute_result"
    }
   ],
   "source": [
    "bz2.decompress(pw)"
   ]
  }
 ],
 "metadata": {
  "kernelspec": {
   "display_name": "Python 3 (ipykernel)",
   "language": "python",
   "name": "python3"
  },
  "language_info": {
   "codemirror_mode": {
    "name": "ipython",
    "version": 3
   },
   "file_extension": ".py",
   "mimetype": "text/x-python",
   "name": "python",
   "nbconvert_exporter": "python",
   "pygments_lexer": "ipython3",
   "version": "3.9.13"
  }
 },
 "nbformat": 4,
 "nbformat_minor": 5
}
