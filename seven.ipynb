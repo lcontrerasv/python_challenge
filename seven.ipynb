{
 "cells": [
  {
   "cell_type": "code",
   "execution_count": 41,
   "id": "ffbfde23",
   "metadata": {},
   "outputs": [],
   "source": [
    "import requests, io, re"
   ]
  },
  {
   "cell_type": "code",
   "execution_count": 12,
   "id": "4fdf7c8c",
   "metadata": {},
   "outputs": [],
   "source": [
    "from PIL import Image"
   ]
  },
  {
   "cell_type": "code",
   "execution_count": 5,
   "id": "44606f69",
   "metadata": {},
   "outputs": [],
   "source": [
    "url = 'http://www.pythonchallenge.com/pc/def/oxygen.html'"
   ]
  },
  {
   "cell_type": "code",
   "execution_count": 6,
   "id": "7def0d72",
   "metadata": {},
   "outputs": [],
   "source": [
    "response = requests.get(url)"
   ]
  },
  {
   "cell_type": "code",
   "execution_count": 8,
   "id": "ec5adb86",
   "metadata": {},
   "outputs": [
    {
     "name": "stdout",
     "output_type": "stream",
     "text": [
      "<html>\n",
      "<head>\n",
      "  <title>smarty</title>\n",
      "  <link rel=\"stylesheet\" type=\"text/css\" href=\"../style.css\">\n",
      "</head>\n",
      "<body>\n",
      "\t<br><br>\n",
      "\t<center>\n",
      "\t<img src=\"oxygen.png\"/>\n",
      "</body>\n",
      "</html>\n",
      "\n"
     ]
    }
   ],
   "source": [
    "print(response.text)"
   ]
  },
  {
   "cell_type": "code",
   "execution_count": 18,
   "id": "0520cad9",
   "metadata": {},
   "outputs": [],
   "source": [
    "img = Image.open(io.BytesIO(requests.get('http://www.pythonchallenge.com/pc/def/oxygen.png').content))"
   ]
  },
  {
   "cell_type": "code",
   "execution_count": 32,
   "id": "b78c6cc4",
   "metadata": {},
   "outputs": [],
   "source": [
    "row = [img.getpixel((x, img.height / 2)) for x in range(img.width)]"
   ]
  },
  {
   "cell_type": "code",
   "execution_count": 36,
   "id": "a53aee59",
   "metadata": {},
   "outputs": [],
   "source": [
    "row = row[::7]"
   ]
  },
  {
   "cell_type": "code",
   "execution_count": 37,
   "id": "65b7c42e",
   "metadata": {},
   "outputs": [],
   "source": [
    "ords = [r for r, g, b, a in row if r == g == b]"
   ]
  },
  {
   "cell_type": "code",
   "execution_count": 39,
   "id": "b31e8780",
   "metadata": {},
   "outputs": [
    {
     "data": {
      "text/plain": [
       "'smart guy, you made it. the next level is [105, 110, 116, 101, 103, 114, 105, 116, 121]'"
      ]
     },
     "execution_count": 39,
     "metadata": {},
     "output_type": "execute_result"
    }
   ],
   "source": [
    "\"\".join(map(chr, ords))"
   ]
  },
  {
   "cell_type": "code",
   "execution_count": 42,
   "id": "a301a76c",
   "metadata": {},
   "outputs": [],
   "source": [
    "nums = re.findall(\"\\d+\", \"\".join(map(chr, ords)))"
   ]
  },
  {
   "cell_type": "code",
   "execution_count": 44,
   "id": "3ec5e9ad",
   "metadata": {},
   "outputs": [
    {
     "data": {
      "text/plain": [
       "'integrity'"
      ]
     },
     "execution_count": 44,
     "metadata": {},
     "output_type": "execute_result"
    }
   ],
   "source": [
    "\"\".join(map(chr, map(int, nums)))"
   ]
  }
 ],
 "metadata": {
  "kernelspec": {
   "display_name": "Python 3 (ipykernel)",
   "language": "python",
   "name": "python3"
  },
  "language_info": {
   "codemirror_mode": {
    "name": "ipython",
    "version": 3
   },
   "file_extension": ".py",
   "mimetype": "text/x-python",
   "name": "python",
   "nbconvert_exporter": "python",
   "pygments_lexer": "ipython3",
   "version": "3.9.13"
  }
 },
 "nbformat": 4,
 "nbformat_minor": 5
}
